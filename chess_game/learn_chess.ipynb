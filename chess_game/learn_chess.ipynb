{
 "cells": [
  {
   "cell_type": "code",
   "execution_count": 20,
   "metadata": {},
   "outputs": [
    {
     "name": "stdout",
     "output_type": "stream",
     "text": [
      "Outcome: Checkmate, Description: White wins\n"
     ]
    }
   ],
   "source": [
    "import chess\n",
    "from utils.check_win\n",
    "\n",
    "# Initialize the board to the starting position or a specific position\n",
    "board = chess.Board()\n",
    "\n",
    "def check_game_outcome(board):\n",
    "    # Check for checkmate\n",
    "    if board.is_checkmate():\n",
    "        return \"Checkmate\", \"White wins\" if board.turn == chess.BLACK else \"Black wins\"\n",
    "\n",
    "    # Check for stalemate\n",
    "    if board.is_stalemate():\n",
    "        return \"Stalemate\", \"Draw\"\n",
    "\n",
    "    # Check for insufficient material\n",
    "    if board.is_insufficient_material():\n",
    "        return \"Insufficient material\", \"Draw\"\n",
    "\n",
    "    if board.has_insufficient_material():\n",
    "        return \"Insufficient material\", \"Draw\"\n",
    "\n",
    "    # Check for the seventy-five-move rule\n",
    "    if board.is_seventyfive_moves():\n",
    "        return \"Seventy-five-move rule\", \"Draw\"\n",
    "\n",
    "    # Check for fivefold repetition\n",
    "    if board.is_fivefold_repetition():\n",
    "        return \"Fivefold repetition\", \"Draw\"\n",
    "\n",
    "    # Check if the game is still ongoing\n",
    "    if not board.is_game_over():\n",
    "        return \"Game not over\", \"No outcome yet\"\n",
    "\n",
    "    # # If the game is over but none of the above conditions are met, it's a draw by other reasons (e.g., fifty-move rule, threefold repetition before it reaches fivefold)\n",
    "    # return \"Draw\", \"Game over with a draw by other reasons\"\n",
    "\n",
    "# Make moves or set up a specific position here\n",
    "# Example moves to set up different conditions (uncomment as needed)\n",
    "board.push_san(\"e3\")  # Start with some opening moves\n",
    "board.push_san(\"e5\")\n",
    "board.push_san(\"Qh5\")\n",
    "board.push_san(\"Nc6\")\n",
    "board.push_san(\"Bc4\")\n",
    "board.push_san(\"Nf6\")\n",
    "board.push_san(\"Qxf7#\")  # This would be checkmate\n",
    "\n",
    "outcome, description = check_game_outcome(board)\n",
    "print(f\"Outcome: {outcome}, Description: {description}\")  "
   ]
  },
  {
   "cell_type": "code",
   "execution_count": null,
   "metadata": {},
   "outputs": [],
   "source": []
  }
 ],
 "metadata": {
  "kernelspec": {
   "display_name": ".chess_venv",
   "language": "python",
   "name": "python3"
  },
  "language_info": {
   "codemirror_mode": {
    "name": "ipython",
    "version": 3
   },
   "file_extension": ".py",
   "mimetype": "text/x-python",
   "name": "python",
   "nbconvert_exporter": "python",
   "pygments_lexer": "ipython3",
   "version": "3.10.12"
  }
 },
 "nbformat": 4,
 "nbformat_minor": 2
}
